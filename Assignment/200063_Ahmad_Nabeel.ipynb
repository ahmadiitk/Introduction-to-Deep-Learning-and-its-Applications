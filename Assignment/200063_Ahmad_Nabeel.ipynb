{
  "nbformat": 4,
  "nbformat_minor": 0,
  "metadata": {
    "colab": {
      "name": "200063_Ahmad_Nabeel.ipynb",
      "provenance": [],
      "collapsed_sections": []
    },
    "kernelspec": {
      "name": "python3",
      "display_name": "Python 3"
    },
    "language_info": {
      "name": "python"
    }
  },
  "cells": [
    {
      "cell_type": "markdown",
      "source": [
        "Import packages"
      ],
      "metadata": {
        "id": "mXhgcvvJbiSW"
      }
    },
    {
      "cell_type": "code",
      "execution_count": 36,
      "metadata": {
        "id": "gWGKCfTJbQ8G"
      },
      "outputs": [],
      "source": [
        "import matplotlib.pyplot as plt\n",
        "import torch\n",
        "import torch.nn as nn\n",
        "import torchvision\n",
        "import torchvision.transforms as transforms"
      ]
    },
    {
      "cell_type": "code",
      "source": [
        "cpu = torch.device('cuda' if torch.cuda.is_available() else 'cpu')"
      ],
      "metadata": {
        "id": "b0EwM9ubeQbl"
      },
      "execution_count": 37,
      "outputs": []
    },
    {
      "cell_type": "code",
      "source": [
        "input = 28\n",
        "seq = 28\n",
        "hidden_size = 128\n",
        "layers = 2\n",
        "classes = 10\n",
        "alpha = 0.001"
      ],
      "metadata": {
        "id": "GJElv7iobgNM"
      },
      "execution_count": 38,
      "outputs": []
    },
    {
      "cell_type": "code",
      "source": [
        "train_x = torchvision.datasets.MNIST(root='./data', train=True, transform=transforms.ToTensor(),  download=True)\n",
        "test_x = torchvision.datasets.MNIST(root='./data', train=False, transform=transforms.ToTensor())\n",
        "train_y = torch.utils.data.DataLoader(dataset=train_x, batch_size=150, shuffle=True)\n",
        "test_y = torch.utils.data.DataLoader(dataset=test_x, batch_size=150, shuffle=False)"
      ],
      "metadata": {
        "id": "moJt3qk8cjVq"
      },
      "execution_count": 40,
      "outputs": []
    },
    {
      "cell_type": "markdown",
      "source": [
        "RNN function"
      ],
      "metadata": {
        "id": "NJGQl12of2en"
      }
    },
    {
      "cell_type": "code",
      "source": [
        "class RNN(nn.Module):\n",
        "    def __init__(self, input_size, hidden_size, num_layers, classes):\n",
        "        super(RNN, self).__init__()\n",
        "        self.num_layers = layers\n",
        "        self.hidden_size = hidden_size\n",
        "        self.lstm = nn.LSTM(input_size, hidden_size, layers, batch_first=True)\n",
        "        self.fc = nn.Linear(hidden_size, classes)\n",
        "        \n",
        "    def forward(self, x):\n",
        "        h0 = torch.zeros(self.num_layers, x.size(0), self.hidden_size).to(cpu) \n",
        "        c0 = torch.zeros(self.num_layers, x.size(0), self.hidden_size).to(cpu)\n",
        "        \n",
        "        output, _ = self.lstm(x, (h0,c0))\n",
        "        output = output[:, -1, :]\n",
        "        output = self.fc(output)\n",
        "        return output"
      ],
      "metadata": {
        "id": "YwPGSxHYcyOb"
      },
      "execution_count": 41,
      "outputs": []
    },
    {
      "cell_type": "code",
      "source": [
        "model = RNN(input, hidden_size, layers, classes).to(cpu)"
      ],
      "metadata": {
        "id": "u_0zj001c4gv"
      },
      "execution_count": 42,
      "outputs": []
    },
    {
      "cell_type": "markdown",
      "source": [
        "\n",
        "\n",
        "*   Cross Entropy Loss\n",
        "*   Loss Optimization \n",
        "\n"
      ],
      "metadata": {
        "id": "ndLhTVrTgiiM"
      }
    },
    {
      "cell_type": "code",
      "source": [
        "cr_en_loss = nn.CrossEntropyLoss()\n",
        "optim = torch.optim.Adam(model.parameters(), lr=alpha)"
      ],
      "metadata": {
        "id": "qd5ks3wzc8Cd"
      },
      "execution_count": 89,
      "outputs": []
    },
    {
      "cell_type": "markdown",
      "source": [
        "MNIST data"
      ],
      "metadata": {
        "id": "i8nj5AVA6Jak"
      }
    },
    {
      "cell_type": "code",
      "source": [
        "figure = plt.figure(figsize=(8,8))\n",
        "cols, rows = 3,3\n",
        "for i in range(1, cols * rows + 1):\n",
        "    img, label = train_x[i]\n",
        "    figure.add_subplot(rows, cols, i)\n",
        "    plt.title(label)\n",
        "    plt.axis(\"off\")\n",
        "    plt.imshow(img.squeeze(), cmap=\"gray\")\n",
        "plt.show()"
      ],
      "metadata": {
        "colab": {
          "base_uri": "https://localhost:8080/",
          "height": 482
        },
        "id": "PINXElCl4aO4",
        "outputId": "b79c32ac-b8b2-417e-e8c6-9b23b35c8c3a"
      },
      "execution_count": 88,
      "outputs": [
        {
          "output_type": "display_data",
          "data": {
            "text/plain": [
              "<Figure size 576x576 with 9 Axes>"
            ],
            "image/png": "[encoded data removed]"
          },
          "metadata": {
            "needs_background": "light"
          }
        }
      ]
    },
    {
      "cell_type": "markdown",
      "source": [
        "Training"
      ],
      "metadata": {
        "id": "-7tQdIxupt7V"
      }
    },
    {
      "cell_type": "code",
      "source": [
        "for epoch in range(5):\n",
        "    for i, (img, label) in enumerate(train_y):  \n",
        "        \n",
        "        img = img.reshape(-1, seq, input).to(cpu)\n",
        "        label = label.to(cpu)\n",
        "      \n",
        "        outputs = model(img)\n",
        "        loss = cr_en_loss(outputs, label)\n",
        "        \n",
        "        optim.zero_grad()\n",
        "        loss.backward()\n",
        "        optim.step()\n",
        "        \n",
        "        if (i) % 200 == 0:\n",
        "            print (f'Epoch {i/200}, Loss: {loss.item():.5f}')"
      ],
      "metadata": {
        "colab": {
          "base_uri": "https://localhost:8080/"
        },
        "id": "Eov3lqElc_5t",
        "outputId": "397b4f14-fbde-429a-bb10-ea6c4ef2ea08"
      },
      "execution_count": 91,
      "outputs": [
        {
          "output_type": "stream",
          "name": "stdout",
          "text": [
            "Epoch 0.0, Loss: 0.14453\n",
            "Epoch 1.0, Loss: 0.12295\n",
            "Epoch 0.0, Loss: 0.05810\n",
            "Epoch 1.0, Loss: 0.07379\n",
            "Epoch 0.0, Loss: 0.02917\n",
            "Epoch 1.0, Loss: 0.00936\n",
            "Epoch 0.0, Loss: 0.05095\n",
            "Epoch 1.0, Loss: 0.01317\n",
            "Epoch 0.0, Loss: 0.02115\n",
            "Epoch 1.0, Loss: 0.02917\n"
          ]
        }
      ]
    },
    {
      "cell_type": "markdown",
      "source": [
        "Testing"
      ],
      "metadata": {
        "id": "EDNrmADBp1IZ"
      }
    },
    {
      "cell_type": "code",
      "source": [
        "with torch.no_grad():\n",
        "    corr_ans = 0\n",
        "    total_data = 0\n",
        "    for img, label in test_y:\n",
        "        img = img.reshape(-1, seq, input).to(cpu)\n",
        "        label = label.to(cpu)\n",
        "        outputs = model(img)\n",
        "        _, predicted = torch.max(outputs.data, 1)\n",
        "        total_data += label.size(0)\n",
        "        corr_ans += (predicted == label).sum()\n",
        "\n",
        "    model_accuracy =  corr_ans / total_data\n",
        "    print(f'Accuracy: {model_accuracy:.4f} ')"
      ],
      "metadata": {
        "colab": {
          "base_uri": "https://localhost:8080/"
        },
        "id": "-jMAowbWdFeo",
        "outputId": "7b4e30fd-3442-483d-f30f-a996ce5f3578"
      },
      "execution_count": 92,
      "outputs": [
        {
          "output_type": "stream",
          "name": "stdout",
          "text": [
            "Accuracy: 0.9846 \n"
          ]
        }
      ]
    }
  ]
}